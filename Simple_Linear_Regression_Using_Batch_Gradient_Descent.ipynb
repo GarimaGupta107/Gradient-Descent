{
 "cells": [
  {
   "cell_type": "markdown",
   "id": "b0b0be60-946f-4778-81ef-1c909d9b3e59",
   "metadata": {},
   "source": [
    "#Gradient Descent is an iterative algorithm which is used to minimize the loss function by updating the value of Parametrs m(Slope) and b(intercept).\n",
    "Batch Gradient Descent is a type of gradient descent where the entire training dataset is used to compute the gradient at each step of the update."
   ]
  },
  {
   "cell_type": "code",
   "execution_count": 89,
   "id": "eff98ef7-c571-4762-b14b-ed705c23eb32",
   "metadata": {},
   "outputs": [],
   "source": [
    "#importing libraries\n",
    "import numpy as np\n",
    "import matplotlib.pyplot as plt\n",
    "from sklearn.datasets import make_regression"
   ]
  },
  {
   "cell_type": "code",
   "execution_count": 114,
   "id": "9447ce61-d02f-4004-ad8e-34facf610ef6",
   "metadata": {},
   "outputs": [],
   "source": [
    "X,y = make_regression(n_samples=100, n_features=1, n_informative=1, n_targets=1,noise=20,random_state=13)"
   ]
  },
  {
   "cell_type": "code",
   "execution_count": 116,
   "id": "88e25c8b-fc1d-4442-8882-4500eeea03b8",
   "metadata": {
    "scrolled": true
   },
   "outputs": [
    {
     "data": {
      "text/plain": [
       "array([[-0.71239066],\n",
       "       [-0.43714566],\n",
       "       [-0.45375238],\n",
       "       [ 0.95283061],\n",
       "       [ 0.23785784],\n",
       "       [ 0.86121137],\n",
       "       [-0.24332625],\n",
       "       [ 0.18494595],\n",
       "       [-0.72099967],\n",
       "       [-0.42989708],\n",
       "       [ 2.01522083],\n",
       "       [ 0.39724133],\n",
       "       [ 0.20780005],\n",
       "       [-0.23242587],\n",
       "       [-0.76862702],\n",
       "       [ 0.45315861],\n",
       "       [ 0.63988397],\n",
       "       [ 0.3595323 ],\n",
       "       [-1.61510796],\n",
       "       [ 1.74924179],\n",
       "       [-0.78898902],\n",
       "       [-0.51196509],\n",
       "       [-0.92833523],\n",
       "       [ 2.15038297],\n",
       "       [-0.2073497 ],\n",
       "       [-1.63909341],\n",
       "       [-0.33861825],\n",
       "       [-0.32212366],\n",
       "       [-0.48137142],\n",
       "       [-0.52316421],\n",
       "       [ 0.72196506],\n",
       "       [ 0.76591105],\n",
       "       [ 0.45348104],\n",
       "       [-1.26160595],\n",
       "       [-2.18711527],\n",
       "       [-1.18541881],\n",
       "       [ 0.21745166],\n",
       "       [ 1.33031692],\n",
       "       [-1.08718159],\n",
       "       [ 0.56226171],\n",
       "       [-1.51284512],\n",
       "       [-0.00238903],\n",
       "       [-0.27813452],\n",
       "       [ 0.45181234],\n",
       "       [ 1.19070527],\n",
       "       [ 0.92234415],\n",
       "       [ 0.81499544],\n",
       "       [-0.6209797 ],\n",
       "       [ 0.9137407 ],\n",
       "       [ 1.13833305],\n",
       "       [ 1.47868574],\n",
       "       [-0.65105648],\n",
       "       [-0.37591996],\n",
       "       [-0.77466003],\n",
       "       [ 0.50113729],\n",
       "       [ 1.3501879 ],\n",
       "       [ 0.72916547],\n",
       "       [-0.08165156],\n",
       "       [-0.85414295],\n",
       "       [ 0.46565797],\n",
       "       [-0.04450308],\n",
       "       [-0.05753239],\n",
       "       [ 1.89274222],\n",
       "       [-1.04537713],\n",
       "       [ 0.56465429],\n",
       "       [-1.92415945],\n",
       "       [-0.76403397],\n",
       "       [ 0.12730328],\n",
       "       [-0.02677165],\n",
       "       [-0.14521133],\n",
       "       [ 0.56284679],\n",
       "       [ 0.31735092],\n",
       "       [ 0.71097479],\n",
       "       [ 0.75376638],\n",
       "       [-0.37011608],\n",
       "       [ 1.34510171],\n",
       "       [ 0.53233789],\n",
       "       [-0.98416078],\n",
       "       [ 1.350306  ],\n",
       "       [-0.34660679],\n",
       "       [ 0.51432886],\n",
       "       [ 0.10126979],\n",
       "       [-0.65751727],\n",
       "       [ 0.83090566],\n",
       "       [-0.31726597],\n",
       "       [-0.98027432],\n",
       "       [ 1.39923842],\n",
       "       [ 0.54791831],\n",
       "       [-0.53032741],\n",
       "       [ 0.49087183],\n",
       "       [ 0.34875059],\n",
       "       [ 2.05369324],\n",
       "       [ 0.60628866],\n",
       "       [-0.38445769],\n",
       "       [-1.94539068],\n",
       "       [-0.31485808],\n",
       "       [ 1.84961257],\n",
       "       [-1.12050687],\n",
       "       [-0.33267578],\n",
       "       [-0.75745323]])"
      ]
     },
     "execution_count": 116,
     "metadata": {},
     "output_type": "execute_result"
    }
   ],
   "source": [
    "X"
   ]
  },
  {
   "cell_type": "code",
   "execution_count": 118,
   "id": "fc12f4e1-00e5-47b0-bf0d-be431902070c",
   "metadata": {},
   "outputs": [
    {
     "data": {
      "text/plain": [
       "array([-3.43198806e+01, -9.42120961e+00, -1.90881877e+01,  2.04372122e+01,\n",
       "        2.77559659e+01, -2.90750046e+00, -1.41987828e+01,  5.40025891e+00,\n",
       "       -2.64264302e+01, -3.49067872e+01,  3.73362043e+01,  1.28532816e+01,\n",
       "        2.50289888e+01, -1.89608736e+01, -2.34655852e+01,  3.77839324e+01,\n",
       "        6.69670792e+00, -5.57201352e+00, -4.92158778e+01,  1.59474399e+01,\n",
       "       -4.29667324e+01,  6.09015466e+00, -2.53194769e+01,  6.28216706e+01,\n",
       "        1.24870400e+01, -3.27136530e+01, -1.88255476e+01, -2.93912926e+01,\n",
       "       -2.86886731e+01,  4.38924069e+00,  4.63542396e+01,  2.43919519e+01,\n",
       "        3.79848517e+01, -3.45767718e+01, -6.18736296e+01, -4.64421597e+01,\n",
       "       -6.88808416e+00,  3.96988084e+01, -3.52373298e+01,  8.36850884e+00,\n",
       "       -3.96814412e+01,  8.27318308e+00, -4.40722161e+00, -3.01350607e+00,\n",
       "        5.78213629e+01,  2.46525603e+01,  1.81131707e+01, -5.22849035e+01,\n",
       "        3.59187182e+01,  1.58411788e+01,  2.40080546e+01, -2.51245994e+01,\n",
       "       -4.39284313e+01,  1.73925049e+01,  1.50322799e+01,  3.78339073e+01,\n",
       "        6.33015059e+00,  5.07266140e+00, -5.57047189e+00,  1.98411137e+01,\n",
       "        7.04149700e+00, -1.89353310e+01,  3.48047372e+01, -5.71391242e+01,\n",
       "        3.10524837e+01, -7.57291461e+01, -4.43062883e+01,  2.12404103e+01,\n",
       "       -1.86288622e-01, -2.85657165e+01, -7.39169323e+00,  2.52239775e+01,\n",
       "        3.25432136e+01,  2.93379129e-01, -1.86381423e+01,  3.93501682e+01,\n",
       "        2.54005098e+00, -4.86320699e+01,  5.42818051e+01, -1.02170910e+01,\n",
       "       -5.66921620e+00,  2.34628620e+01, -6.92299670e-02,  5.63079459e+00,\n",
       "       -9.68771368e+00, -4.46638656e+01,  3.27083097e+01,  1.81174790e+01,\n",
       "       -1.61432262e+01,  4.50414413e+01,  2.27466324e+01,  3.71085471e+01,\n",
       "        1.24760264e+01, -3.58452002e+01, -2.86386661e+01, -2.79790662e+01,\n",
       "        6.41794705e+01, -6.07154394e+01,  2.22333646e+01, -2.40222151e+00])"
      ]
     },
     "execution_count": 118,
     "metadata": {},
     "output_type": "execute_result"
    }
   ],
   "source": [
    "y"
   ]
  },
  {
   "cell_type": "code",
   "execution_count": 120,
   "id": "130ec40c-a5b6-45b4-b0f0-868cf9bc23e5",
   "metadata": {},
   "outputs": [
    {
     "data": {
      "text/plain": [
       "<matplotlib.collections.PathCollection at 0x16feb9e5040>"
      ]
     },
     "execution_count": 120,
     "metadata": {},
     "output_type": "execute_result"
    },
    {
     "data": {
      "image/png": "[encoded data removed]",
      "text/plain": [
       "<Figure size 640x480 with 1 Axes>"
      ]
     },
     "metadata": {},
     "output_type": "display_data"
    }
   ],
   "source": [
    "plt.scatter(X,y)"
   ]
  },
  {
   "cell_type": "code",
   "execution_count": 122,
   "id": "a4fa9df6-9129-4726-945c-f164b22fe55e",
   "metadata": {},
   "outputs": [],
   "source": [
    "#Train_test split\n",
    "from sklearn.model_selection import train_test_split\n",
    "X_train,X_test,y_train,y_test = train_test_split(X,y,test_size=0.2,random_state=2)"
   ]
  },
  {
   "cell_type": "code",
   "execution_count": 124,
   "id": "e6795811-db80-4a49-9c8e-1ce582e3bec9",
   "metadata": {},
   "outputs": [
    {
     "data": {
      "text/plain": [
       "array([[-1.18541881],\n",
       "       [ 0.39724133],\n",
       "       [-0.31726597],\n",
       "       [ 1.19070527],\n",
       "       [ 0.75376638],\n",
       "       [ 0.86121137],\n",
       "       [-1.63909341],\n",
       "       [-0.98416078],\n",
       "       [-0.37011608],\n",
       "       [ 1.89274222],\n",
       "       [-1.92415945],\n",
       "       [-0.43714566],\n",
       "       [-1.61510796],\n",
       "       [ 0.9137407 ],\n",
       "       [ 0.21745166],\n",
       "       [ 1.350306  ],\n",
       "       [-0.24332625],\n",
       "       [ 0.49087183],\n",
       "       [ 2.05369324],\n",
       "       [ 2.01522083],\n",
       "       [ 0.20780005],\n",
       "       [-0.77466003],\n",
       "       [ 0.54791831],\n",
       "       [ 0.50113729],\n",
       "       [-0.31485808],\n",
       "       [ 0.45348104],\n",
       "       [ 1.74924179],\n",
       "       [-0.33861825],\n",
       "       [-0.04450308],\n",
       "       [ 1.3501879 ],\n",
       "       [-0.42989708],\n",
       "       [ 1.84961257],\n",
       "       [ 0.3595323 ],\n",
       "       [ 0.46565797],\n",
       "       [-0.08165156],\n",
       "       [-0.00238903],\n",
       "       [ 0.56465429],\n",
       "       [ 0.92234415],\n",
       "       [-1.12050687],\n",
       "       [-0.72099967],\n",
       "       [ 0.31735092],\n",
       "       [-1.94539068],\n",
       "       [ 0.34875059],\n",
       "       [-0.33267578],\n",
       "       [ 1.39923842],\n",
       "       [ 0.51432886],\n",
       "       [ 1.47868574],\n",
       "       [-0.37591996],\n",
       "       [-0.76403397],\n",
       "       [-0.53032741],\n",
       "       [ 0.56284679],\n",
       "       [ 0.81499544],\n",
       "       [-0.02677165],\n",
       "       [-0.14521133],\n",
       "       [ 0.10126979],\n",
       "       [-0.85414295],\n",
       "       [-1.26160595],\n",
       "       [-1.08718159],\n",
       "       [-0.65105648],\n",
       "       [-0.27813452],\n",
       "       [ 0.23785784],\n",
       "       [ 0.12730328],\n",
       "       [ 0.56226171],\n",
       "       [ 1.33031692],\n",
       "       [-0.78898902],\n",
       "       [ 0.76591105],\n",
       "       [-1.04537713],\n",
       "       [-0.6209797 ],\n",
       "       [-0.98027432],\n",
       "       [-0.38445769],\n",
       "       [ 1.13833305],\n",
       "       [-2.18711527],\n",
       "       [ 0.18494595],\n",
       "       [ 1.34510171],\n",
       "       [-0.65751727],\n",
       "       [ 0.45181234],\n",
       "       [-0.92833523],\n",
       "       [ 0.71097479],\n",
       "       [ 0.45315861],\n",
       "       [-1.51284512]])"
      ]
     },
     "execution_count": 124,
     "metadata": {},
     "output_type": "execute_result"
    }
   ],
   "source": [
    "X_train"
   ]
  },
  {
   "cell_type": "code",
   "execution_count": 126,
   "id": "c00e66d0-402d-475c-8b3a-494d7511704c",
   "metadata": {},
   "outputs": [
    {
     "data": {
      "text/plain": [
       "array([[ 0.83090566],\n",
       "       [ 0.72196506],\n",
       "       [ 0.72916547],\n",
       "       [-0.2073497 ],\n",
       "       [ 0.63988397],\n",
       "       [ 2.15038297],\n",
       "       [-0.45375238],\n",
       "       [-0.32212366],\n",
       "       [-0.48137142],\n",
       "       [-0.23242587],\n",
       "       [-0.75745323],\n",
       "       [ 0.60628866],\n",
       "       [ 0.53233789],\n",
       "       [-0.76862702],\n",
       "       [-0.71239066],\n",
       "       [-0.51196509],\n",
       "       [ 0.95283061],\n",
       "       [-0.52316421],\n",
       "       [-0.05753239],\n",
       "       [-0.34660679]])"
      ]
     },
     "execution_count": 126,
     "metadata": {},
     "output_type": "execute_result"
    }
   ],
   "source": [
    "X_test"
   ]
  },
  {
   "cell_type": "code",
   "execution_count": 128,
   "id": "05f6e9cf-516d-4b1c-abd1-b1db6ff47935",
   "metadata": {},
   "outputs": [
    {
     "data": {
      "text/plain": [
       "array([-4.64421597e+01,  1.28532816e+01, -9.68771368e+00,  5.78213629e+01,\n",
       "        2.93379129e-01, -2.90750046e+00, -3.27136530e+01, -4.86320699e+01,\n",
       "       -1.86381423e+01,  3.48047372e+01, -7.57291461e+01, -9.42120961e+00,\n",
       "       -4.92158778e+01,  3.59187182e+01, -6.88808416e+00,  5.42818051e+01,\n",
       "       -1.41987828e+01,  4.50414413e+01,  3.71085471e+01,  3.73362043e+01,\n",
       "        2.50289888e+01,  1.73925049e+01,  1.81174790e+01,  1.50322799e+01,\n",
       "       -2.79790662e+01,  3.79848517e+01,  1.59474399e+01, -1.88255476e+01,\n",
       "        7.04149700e+00,  3.78339073e+01, -3.49067872e+01,  6.41794705e+01,\n",
       "       -5.57201352e+00,  1.98411137e+01,  5.07266140e+00,  8.27318308e+00,\n",
       "        3.10524837e+01,  2.46525603e+01, -6.07154394e+01, -2.64264302e+01,\n",
       "        2.52239775e+01, -2.86386661e+01,  2.27466324e+01,  2.22333646e+01,\n",
       "        3.27083097e+01, -5.66921620e+00,  2.40080546e+01, -4.39284313e+01,\n",
       "       -4.43062883e+01, -1.61432262e+01, -7.39169323e+00,  1.81131707e+01,\n",
       "       -1.86288622e-01, -2.85657165e+01,  2.34628620e+01, -5.57047189e+00,\n",
       "       -3.45767718e+01, -3.52373298e+01, -2.51245994e+01, -4.40722161e+00,\n",
       "        2.77559659e+01,  2.12404103e+01,  8.36850884e+00,  3.96988084e+01,\n",
       "       -4.29667324e+01,  2.43919519e+01, -5.71391242e+01, -5.22849035e+01,\n",
       "       -4.46638656e+01, -3.58452002e+01,  1.58411788e+01, -6.18736296e+01,\n",
       "        5.40025891e+00,  3.93501682e+01, -6.92299670e-02, -3.01350607e+00,\n",
       "       -2.53194769e+01,  3.25432136e+01,  3.77839324e+01, -3.96814412e+01])"
      ]
     },
     "execution_count": 128,
     "metadata": {},
     "output_type": "execute_result"
    }
   ],
   "source": [
    "y_train"
   ]
  },
  {
   "cell_type": "code",
   "execution_count": 130,
   "id": "864475ec-9894-4033-b955-ca505334833d",
   "metadata": {},
   "outputs": [
    {
     "data": {
      "text/plain": [
       "array([  5.63079459,  46.35423956,   6.33015059,  12.48703995,\n",
       "         6.69670792,  62.8216706 , -19.08818775, -29.39129264,\n",
       "       -28.68867308, -18.96087356,  -2.40222151,  12.47602642,\n",
       "         2.54005098, -23.46558518, -34.31988063,   6.09015466,\n",
       "        20.43721216,   4.38924069, -18.93533099, -10.21709104])"
      ]
     },
     "execution_count": 130,
     "metadata": {},
     "output_type": "execute_result"
    }
   ],
   "source": [
    "y_test"
   ]
  },
  {
   "cell_type": "code",
   "execution_count": 132,
   "id": "2a4ead3f-13fa-41c9-a899-d97f9de91ea9",
   "metadata": {},
   "outputs": [],
   "source": [
    "#using linear regression class\n",
    "from sklearn.linear_model import LinearRegression\n",
    "LR=LinearRegression()\n",
    "LR.fit(X_train,y_train)\n",
    "y_pred=LR.predict(X_test)"
   ]
  },
  {
   "cell_type": "code",
   "execution_count": 134,
   "id": "b1d9b801-73fe-47af-b3e2-a9879ffab1d7",
   "metadata": {},
   "outputs": [
    {
     "data": {
      "text/plain": [
       "0.6345158782661013"
      ]
     },
     "execution_count": 134,
     "metadata": {},
     "output_type": "execute_result"
    }
   ],
   "source": [
    "from sklearn.metrics import r2_score\n",
    "r2_score(y_test,y_pred)"
   ]
  },
  {
   "cell_type": "code",
   "execution_count": 136,
   "id": "8a38fbb1-6e95-4569-84ed-b37452aeae36",
   "metadata": {},
   "outputs": [
    {
     "data": {
      "text/plain": [
       "array([28.12597332])"
      ]
     },
     "execution_count": 136,
     "metadata": {},
     "output_type": "execute_result"
    }
   ],
   "source": [
    "#slope\n",
    "LR.coef_"
   ]
  },
  {
   "cell_type": "code",
   "execution_count": 138,
   "id": "e941ce96-7438-49ff-bcdd-66618d0d589c",
   "metadata": {},
   "outputs": [
    {
     "data": {
      "text/plain": [
       "-2.2710144261783816"
      ]
     },
     "execution_count": 138,
     "metadata": {},
     "output_type": "execute_result"
    }
   ],
   "source": [
    "#intercept\n",
    "LR.intercept_"
   ]
  },
  {
   "cell_type": "code",
   "execution_count": 225,
   "id": "552df326-b9d4-4f2f-984f-5f0d0f1e566c",
   "metadata": {},
   "outputs": [],
   "source": [
    "#Step by step gradient descent\n",
    "class GD:\n",
    "    def __init__(self,learning_rate,epochs):\n",
    "        self.m=100\n",
    "        self.b=-120\n",
    "        self.lr=learning_rate\n",
    "        self.epochs=epochs\n",
    "    def fit(self,X,y):\n",
    "        for i in range(self.epochs):\n",
    "            slope_b= -2 * np.sum ( y- ( self.m * X.ravel() ) -  self.b )\n",
    "            slope_m= -2 * np.sum ( ( y- ( self.m * X.ravel() ) -  self.b ) * X.ravel() )\n",
    "            self.b= self.b -( self.lr * slope_b )\n",
    "            self.m= self.m -( self.lr * slope_m)\n",
    "        print(self.b,self.m)  \n",
    "    def predict(self,X):\n",
    "        return self.m * X + self.b"
   ]
  },
  {
   "cell_type": "code",
   "execution_count": 227,
   "id": "98abdb67-bb6a-4452-82dd-3da0cbf75a5b",
   "metadata": {},
   "outputs": [],
   "source": [
    "A=GD(0.001,50)"
   ]
  },
  {
   "cell_type": "code",
   "execution_count": 229,
   "id": "a1464c40-e3f9-4c53-8b66-8c5405a052a3",
   "metadata": {},
   "outputs": [
    {
     "name": "stdout",
     "output_type": "stream",
     "text": [
      "-2.3004574196824854 28.159367347119066\n"
     ]
    }
   ],
   "source": [
    "A.fit(X_train,y_train)"
   ]
  },
  {
   "cell_type": "code",
   "execution_count": 231,
   "id": "059e190e-5398-4259-9e0d-805f5785308f",
   "metadata": {},
   "outputs": [],
   "source": [
    "y_pred=A.predict(X_test)"
   ]
  },
  {
   "cell_type": "code",
   "execution_count": 233,
   "id": "b66ff9e0-fdc0-44da-9c81-5026f1fe3a05",
   "metadata": {},
   "outputs": [
    {
     "data": {
      "text/plain": [
       "0.6343842836315579"
      ]
     },
     "execution_count": 233,
     "metadata": {},
     "output_type": "execute_result"
    }
   ],
   "source": [
    "from sklearn.metrics import r2_score\n",
    "r2_score(y_test,y_pred)"
   ]
  },
  {
   "cell_type": "code",
   "execution_count": 235,
   "id": "bae7f1d5-3aa1-4ba6-bcb8-ed779a6e08c1",
   "metadata": {},
   "outputs": [
    {
     "data": {
      "image/png": "[encoded data removed]",
      "text/plain": [
       "<Figure size 640x480 with 1 Axes>"
      ]
     },
     "metadata": {},
     "output_type": "display_data"
    }
   ],
   "source": [
    "plt.scatter(X_test, y_test, color='blue', label='Original data')\n",
    "plt.plot(X_test, y_pred, color='red', label='Fitted line')\n",
    "plt.xlabel('X')\n",
    "plt.ylabel('y')\n",
    "plt.title('Gradient Descent Linear Fit')\n",
    "plt.legend()\n",
    "plt.grid(True)\n",
    "plt.show()"
   ]
  },
  {
   "cell_type": "code",
   "execution_count": 257,
   "id": "f39fec10-274a-4d11-b4e3-d581377df491",
   "metadata": {},
   "outputs": [
    {
     "data": {
      "text/plain": [
       "<matplotlib.collections.PathCollection at 0x16ff97b0860>"
      ]
     },
     "execution_count": 257,
     "metadata": {},
     "output_type": "execute_result"
    },
    {
     "data": {
      "image/png": "[encoded data removed]",
      "text/plain": [
       "<Figure size 640x480 with 1 Axes>"
      ]
     },
     "metadata": {},
     "output_type": "display_data"
    }
   ],
   "source": [
    "#How actually gradient descent work\n",
    "b = -120\n",
    "m = 28.12\n",
    "lr = 0.001\n",
    "\n",
    "epochs = 50\n",
    "\n",
    "for i in range(epochs):\n",
    "  loss_slope = -2 * np.sum(y - m*X.ravel() - b)\n",
    "  b = b - (lr * loss_slope)\n",
    "\n",
    "  y_pred = m * X + b\n",
    "\n",
    "  plt.plot(X,y_pred)\n",
    "\n",
    "plt.scatter(X,y)\n"
   ]
  },
  {
   "cell_type": "code",
   "execution_count": null,
   "id": "4a99a1e3-b07c-455a-8bed-75c3a929a348",
   "metadata": {},
   "outputs": [],
   "source": []
  }
 ],
 "metadata": {
  "kernelspec": {
   "display_name": "Python 3 (ipykernel)",
   "language": "python",
   "name": "python3"
  },
  "language_info": {
   "codemirror_mode": {
    "name": "ipython",
    "version": 3
   },
   "file_extension": ".py",
   "mimetype": "text/x-python",
   "name": "python",
   "nbconvert_exporter": "python",
   "pygments_lexer": "ipython3",
   "version": "3.12.4"
  }
 },
 "nbformat": 4,
 "nbformat_minor": 5
}
